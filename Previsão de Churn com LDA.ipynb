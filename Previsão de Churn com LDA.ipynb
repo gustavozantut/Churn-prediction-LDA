{
 "cells": [
  {
   "cell_type": "markdown",
   "metadata": {},
   "source": [
    "# Linear Discriminant Analysis\n",
    "\n",
    "## Introdução\n",
    "\n",
    "O Churn é fenômeno que se caracteriza pelo abandono de uma empresa por um cliente, por exemplo, quando correntistas de um banco encerram suas contas. Este é um problema bastante comum entre as empresas prestadores de serviços e em geral refletem um desempenho ruim da empresa. Frequentemente é trabalho do time de Data Science a avalianção das causas e a indicação de estratégias para prevenção do churn. \n",
    "\n",
    "Neste contexto, uma base de dados disponível publicamente é a base de Churn da Telco, tanto no [kaggle](https://www.kaggle.com/blastchar/telco-customer-churn), quanto no git da [ibm](https://github.com/IBM/telco-customer-churn-on-icp4d/tree/master/data)."
   ]
  },
  {
   "cell_type": "markdown",
   "metadata": {},
   "source": [
    "## Imports"
   ]
  },
  {
   "cell_type": "code",
   "execution_count": 1,
   "metadata": {},
   "outputs": [],
   "source": [
    "# Importando pacotes necessários\n",
    "import numpy as np\n",
    "import pandas as pd\n",
    "import matplotlib.pyplot as plt\n",
    "import matplotlib.patches as mpatches\n",
    "from matplotlib import colors\n",
    "\n",
    "from scipy import linalg\n",
    "from scipy.spatial.distance import cdist\n",
    "from sklearn import datasets  \n",
    "from sklearn.model_selection import train_test_split, KFold\n",
    "from sklearn.discriminant_analysis import LinearDiscriminantAnalysis\n",
    "from sklearn.metrics import (classification_report, accuracy_score, precision_score, \n",
    "                             recall_score, f1_score)\n",
    "from sklearn.preprocessing import StandardScaler, OneHotEncoder\n",
    "import warnings\n",
    "warnings.filterwarnings(\"ignore\")"
   ]
  },
  {
   "cell_type": "markdown",
   "metadata": {},
   "source": [
    "## Telco Churn Dataset\n",
    "### Read"
   ]
  },
  {
   "cell_type": "code",
   "execution_count": 2,
   "metadata": {},
   "outputs": [],
   "source": [
    "telco_churn = pd.read_csv('C:/Users/Gustavo/Py Projects/EXERCICIO LDA/DATA/WA_Fn-UseC_-Telco-Customer-Churn.csv')"
   ]
  },
  {
   "cell_type": "code",
   "execution_count": 3,
   "metadata": {},
   "outputs": [
    {
     "data": {
      "text/html": [
       "<div>\n",
       "<style scoped>\n",
       "    .dataframe tbody tr th:only-of-type {\n",
       "        vertical-align: middle;\n",
       "    }\n",
       "\n",
       "    .dataframe tbody tr th {\n",
       "        vertical-align: top;\n",
       "    }\n",
       "\n",
       "    .dataframe thead th {\n",
       "        text-align: right;\n",
       "    }\n",
       "</style>\n",
       "<table border=\"1\" class=\"dataframe\">\n",
       "  <thead>\n",
       "    <tr style=\"text-align: right;\">\n",
       "      <th></th>\n",
       "      <th>customerID</th>\n",
       "      <th>gender</th>\n",
       "      <th>SeniorCitizen</th>\n",
       "      <th>Partner</th>\n",
       "      <th>Dependents</th>\n",
       "      <th>tenure</th>\n",
       "      <th>PhoneService</th>\n",
       "      <th>MultipleLines</th>\n",
       "      <th>InternetService</th>\n",
       "      <th>OnlineSecurity</th>\n",
       "      <th>...</th>\n",
       "      <th>DeviceProtection</th>\n",
       "      <th>TechSupport</th>\n",
       "      <th>StreamingTV</th>\n",
       "      <th>StreamingMovies</th>\n",
       "      <th>Contract</th>\n",
       "      <th>PaperlessBilling</th>\n",
       "      <th>PaymentMethod</th>\n",
       "      <th>MonthlyCharges</th>\n",
       "      <th>TotalCharges</th>\n",
       "      <th>Churn</th>\n",
       "    </tr>\n",
       "  </thead>\n",
       "  <tbody>\n",
       "    <tr>\n",
       "      <td>0</td>\n",
       "      <td>7590-VHVEG</td>\n",
       "      <td>Female</td>\n",
       "      <td>0</td>\n",
       "      <td>Yes</td>\n",
       "      <td>No</td>\n",
       "      <td>1</td>\n",
       "      <td>No</td>\n",
       "      <td>No phone service</td>\n",
       "      <td>DSL</td>\n",
       "      <td>No</td>\n",
       "      <td>...</td>\n",
       "      <td>No</td>\n",
       "      <td>No</td>\n",
       "      <td>No</td>\n",
       "      <td>No</td>\n",
       "      <td>Month-to-month</td>\n",
       "      <td>Yes</td>\n",
       "      <td>Electronic check</td>\n",
       "      <td>29.85</td>\n",
       "      <td>29.85</td>\n",
       "      <td>No</td>\n",
       "    </tr>\n",
       "    <tr>\n",
       "      <td>1</td>\n",
       "      <td>5575-GNVDE</td>\n",
       "      <td>Male</td>\n",
       "      <td>0</td>\n",
       "      <td>No</td>\n",
       "      <td>No</td>\n",
       "      <td>34</td>\n",
       "      <td>Yes</td>\n",
       "      <td>No</td>\n",
       "      <td>DSL</td>\n",
       "      <td>Yes</td>\n",
       "      <td>...</td>\n",
       "      <td>Yes</td>\n",
       "      <td>No</td>\n",
       "      <td>No</td>\n",
       "      <td>No</td>\n",
       "      <td>One year</td>\n",
       "      <td>No</td>\n",
       "      <td>Mailed check</td>\n",
       "      <td>56.95</td>\n",
       "      <td>1889.5</td>\n",
       "      <td>No</td>\n",
       "    </tr>\n",
       "    <tr>\n",
       "      <td>2</td>\n",
       "      <td>3668-QPYBK</td>\n",
       "      <td>Male</td>\n",
       "      <td>0</td>\n",
       "      <td>No</td>\n",
       "      <td>No</td>\n",
       "      <td>2</td>\n",
       "      <td>Yes</td>\n",
       "      <td>No</td>\n",
       "      <td>DSL</td>\n",
       "      <td>Yes</td>\n",
       "      <td>...</td>\n",
       "      <td>No</td>\n",
       "      <td>No</td>\n",
       "      <td>No</td>\n",
       "      <td>No</td>\n",
       "      <td>Month-to-month</td>\n",
       "      <td>Yes</td>\n",
       "      <td>Mailed check</td>\n",
       "      <td>53.85</td>\n",
       "      <td>108.15</td>\n",
       "      <td>Yes</td>\n",
       "    </tr>\n",
       "    <tr>\n",
       "      <td>3</td>\n",
       "      <td>7795-CFOCW</td>\n",
       "      <td>Male</td>\n",
       "      <td>0</td>\n",
       "      <td>No</td>\n",
       "      <td>No</td>\n",
       "      <td>45</td>\n",
       "      <td>No</td>\n",
       "      <td>No phone service</td>\n",
       "      <td>DSL</td>\n",
       "      <td>Yes</td>\n",
       "      <td>...</td>\n",
       "      <td>Yes</td>\n",
       "      <td>Yes</td>\n",
       "      <td>No</td>\n",
       "      <td>No</td>\n",
       "      <td>One year</td>\n",
       "      <td>No</td>\n",
       "      <td>Bank transfer (automatic)</td>\n",
       "      <td>42.30</td>\n",
       "      <td>1840.75</td>\n",
       "      <td>No</td>\n",
       "    </tr>\n",
       "    <tr>\n",
       "      <td>4</td>\n",
       "      <td>9237-HQITU</td>\n",
       "      <td>Female</td>\n",
       "      <td>0</td>\n",
       "      <td>No</td>\n",
       "      <td>No</td>\n",
       "      <td>2</td>\n",
       "      <td>Yes</td>\n",
       "      <td>No</td>\n",
       "      <td>Fiber optic</td>\n",
       "      <td>No</td>\n",
       "      <td>...</td>\n",
       "      <td>No</td>\n",
       "      <td>No</td>\n",
       "      <td>No</td>\n",
       "      <td>No</td>\n",
       "      <td>Month-to-month</td>\n",
       "      <td>Yes</td>\n",
       "      <td>Electronic check</td>\n",
       "      <td>70.70</td>\n",
       "      <td>151.65</td>\n",
       "      <td>Yes</td>\n",
       "    </tr>\n",
       "  </tbody>\n",
       "</table>\n",
       "<p>5 rows × 21 columns</p>\n",
       "</div>"
      ],
      "text/plain": [
       "   customerID  gender  SeniorCitizen Partner Dependents  tenure PhoneService  \\\n",
       "0  7590-VHVEG  Female              0     Yes         No       1           No   \n",
       "1  5575-GNVDE    Male              0      No         No      34          Yes   \n",
       "2  3668-QPYBK    Male              0      No         No       2          Yes   \n",
       "3  7795-CFOCW    Male              0      No         No      45           No   \n",
       "4  9237-HQITU  Female              0      No         No       2          Yes   \n",
       "\n",
       "      MultipleLines InternetService OnlineSecurity  ... DeviceProtection  \\\n",
       "0  No phone service             DSL             No  ...               No   \n",
       "1                No             DSL            Yes  ...              Yes   \n",
       "2                No             DSL            Yes  ...               No   \n",
       "3  No phone service             DSL            Yes  ...              Yes   \n",
       "4                No     Fiber optic             No  ...               No   \n",
       "\n",
       "  TechSupport StreamingTV StreamingMovies        Contract PaperlessBilling  \\\n",
       "0          No          No              No  Month-to-month              Yes   \n",
       "1          No          No              No        One year               No   \n",
       "2          No          No              No  Month-to-month              Yes   \n",
       "3         Yes          No              No        One year               No   \n",
       "4          No          No              No  Month-to-month              Yes   \n",
       "\n",
       "               PaymentMethod MonthlyCharges  TotalCharges Churn  \n",
       "0           Electronic check          29.85         29.85    No  \n",
       "1               Mailed check          56.95        1889.5    No  \n",
       "2               Mailed check          53.85        108.15   Yes  \n",
       "3  Bank transfer (automatic)          42.30       1840.75    No  \n",
       "4           Electronic check          70.70        151.65   Yes  \n",
       "\n",
       "[5 rows x 21 columns]"
      ]
     },
     "execution_count": 3,
     "metadata": {},
     "output_type": "execute_result"
    }
   ],
   "source": [
    "telco_churn.head()"
   ]
  },
  {
   "cell_type": "markdown",
   "metadata": {},
   "source": [
    "### Feature Engineering\n",
    "\n",
    "Uma limitação do LDA é a necessidade de entradas numéricas, nesse sentido é necessário converter todas as variáveis categóricas.\n",
    "\n",
    "Alésm disso existem variáveis que não são desejáveis, como o customerID, que precisam ser removidas."
   ]
  },
  {
   "cell_type": "code",
   "execution_count": 4,
   "metadata": {},
   "outputs": [
    {
     "data": {
      "text/plain": [
       "customerID           object\n",
       "gender               object\n",
       "SeniorCitizen         int64\n",
       "Partner              object\n",
       "Dependents           object\n",
       "tenure                int64\n",
       "PhoneService         object\n",
       "MultipleLines        object\n",
       "InternetService      object\n",
       "OnlineSecurity       object\n",
       "OnlineBackup         object\n",
       "DeviceProtection     object\n",
       "TechSupport          object\n",
       "StreamingTV          object\n",
       "StreamingMovies      object\n",
       "Contract             object\n",
       "PaperlessBilling     object\n",
       "PaymentMethod        object\n",
       "MonthlyCharges      float64\n",
       "TotalCharges         object\n",
       "Churn                object\n",
       "dtype: object"
      ]
     },
     "execution_count": 4,
     "metadata": {},
     "output_type": "execute_result"
    }
   ],
   "source": [
    "telco_churn.dtypes"
   ]
  },
  {
   "cell_type": "code",
   "execution_count": 5,
   "metadata": {},
   "outputs": [],
   "source": [
    "#Excluindo colunas desnecessárias\n",
    "telco_churn.drop(['customerID'], axis=1, inplace=True)"
   ]
  },
  {
   "cell_type": "code",
   "execution_count": 6,
   "metadata": {},
   "outputs": [],
   "source": [
    "# Transformando dados de colunas booleanas em booleans \n",
    "BOOLEAN_COLUMNS = ['gender', 'SeniorCitizen', 'Partner', 'Dependents',\n",
    "                   'PhoneService', 'PaperlessBilling', 'Churn']\n",
    "telco_churn[BOOLEAN_COLUMNS] = telco_churn[BOOLEAN_COLUMNS].replace(['No', 'Yes', 'Male', 'Female'], [0.0,1.0,0.0,1.0])"
   ]
  },
  {
   "cell_type": "code",
   "execution_count": 7,
   "metadata": {},
   "outputs": [],
   "source": [
    "# Transformando dados de colunas categoricas em booleans categorias\n",
    "CATEGORICAL_COLUMNS = ['MultipleLines', 'InternetService',\n",
    "                       'OnlineSecurity', 'OnlineBackup', 'DeviceProtection', 'TechSupport',\n",
    "                       'StreamingTV', 'StreamingMovies', 'Contract','PaymentMethod']\n",
    "\n",
    "enc = OneHotEncoder(sparse=False)\n",
    "out = enc.fit_transform(telco_churn[CATEGORICAL_COLUMNS])\n",
    "\n",
    "telco_churn.drop(CATEGORICAL_COLUMNS, axis=1, inplace=True)\n",
    "\n",
    "telco_churn[enc.get_feature_names(CATEGORICAL_COLUMNS)] = pd.DataFrame(out, columns=enc.get_feature_names(CATEGORICAL_COLUMNS))"
   ]
  },
  {
   "cell_type": "code",
   "execution_count": 8,
   "metadata": {},
   "outputs": [],
   "source": [
    "# Transformando colunas númericas em números(float)\n",
    "telco_churn['TotalCharges'] = pd.to_numeric(telco_churn['TotalCharges'], errors='coerce')\n",
    "telco_churn.dropna(inplace=True)\n"
   ]
  },
  {
   "cell_type": "code",
   "execution_count": 9,
   "metadata": {},
   "outputs": [],
   "source": [
    "# Selecionando dados de treino e teste e escalando-os\n",
    "y = telco_churn['Churn']\n",
    "X = telco_churn.drop('Churn', axis=1)\n",
    "target_names = ['No', 'Yes']\n",
    "\n",
    "X_train, X_test, y_train, y_test = train_test_split(X, y, test_size=0.2)\n",
    "\n",
    "# Standardize data\n",
    "sc = StandardScaler()\n",
    "X_train = sc.fit_transform(X_train)\n",
    "X_test = sc.transform(X_test)"
   ]
  },
  {
   "cell_type": "code",
   "execution_count": 10,
   "metadata": {
    "scrolled": false
   },
   "outputs": [
    {
     "name": "stdout",
     "output_type": "stream",
     "text": [
      "Accuracy: 0.7846481876332623\n",
      "              precision    recall  f1-score   support\n",
      "\n",
      "          No       0.84      0.88      0.86      1033\n",
      "         Yes       0.61      0.53      0.57       374\n",
      "\n",
      "    accuracy                           0.78      1407\n",
      "   macro avg       0.72      0.70      0.71      1407\n",
      "weighted avg       0.78      0.78      0.78      1407\n",
      "\n"
     ]
    }
   ],
   "source": [
    "# LDA\n",
    "lda_clf = LinearDiscriminantAnalysis(n_components=1, store_covariance=True)\n",
    "lda_clf.fit(X_train, y_train)\n",
    "\n",
    "y_pred = lda_clf.predict(X_test)\n",
    "\n",
    "accuracy = accuracy_score(y_test, y_pred)\n",
    "print('Accuracy:', accuracy)\n",
    "print(classification_report(y_true=y_test, y_pred=y_pred, target_names=target_names))"
   ]
  },
  {
   "cell_type": "code",
   "execution_count": 11,
   "metadata": {},
   "outputs": [],
   "source": [
    "# Validação cruzada\n",
    "kf = KFold(n_splits=5, shuffle=True)\n",
    "labels = np.array(target_names)\n",
    "n_components = min(X.shape[1],labels.shape[0])\n",
    "accuracy = []\n",
    "precision = []\n",
    "recall = []\n",
    "f1 = []\n",
    "\n",
    "accuracy = []\n",
    "precision = []\n",
    "recall = []\n",
    "f1 = []\n",
    "\n",
    "for n in range(1,(n_components+1)):\n",
    "    acc = []\n",
    "    prec=[]\n",
    "    rec = []\n",
    "    f1_aux=[]\n",
    "    for train_index, validation_index in kf.split(X):\n",
    "\n",
    "        # Standardize data\n",
    "        sc = StandardScaler()\n",
    "        X_train = sc.fit_transform(X.iloc[train_index])\n",
    "        X_validation = sc.transform(X.iloc[validation_index])\n",
    "\n",
    "\n",
    "        lda_clf = LinearDiscriminantAnalysis(n_components=1)\n",
    "        lda_clf.fit(X_train, y.iloc[train_index])\n",
    "\n",
    "        y_validation = lda_clf.predict(X_validation)\n",
    "\n",
    "        acc.append(accuracy_score(y.iloc[validation_index], y_validation))\n",
    "        prec.append(precision_score(y.iloc[validation_index], y_validation, average=None))\n",
    "        rec.append(recall_score(y.iloc[validation_index], y_validation, average=None))\n",
    "        f1_aux.append(f1_score(y.iloc[validation_index], y_validation, average=None))\n",
    "    accuracy.append(acc) \n",
    "    precision.append(prec)\n",
    "    recall.append(rec)\n",
    "    f1.append(f1_aux)"
   ]
  },
  {
   "cell_type": "code",
   "execution_count": 12,
   "metadata": {
    "scrolled": false
   },
   "outputs": [
    {
     "data": {
      "image/png": "[encoded data removed]",
      "text/plain": [
       "<Figure size 432x288 with 1 Axes>"
      ]
     },
     "metadata": {
      "needs_background": "light"
     },
     "output_type": "display_data"
    }
   ],
   "source": [
    "# Podemos observar que o menor desvio padrão da acurácia se da com número de componentes = 1\n",
    "accuracy = np.array(accuracy)\n",
    "mean = accuracy.mean(axis=1)\n",
    "std = accuracy.std(axis=1)\n",
    "plt.figure()\n",
    "plt.errorbar(range(1,n_components+1), mean, std, marker='^')\n",
    "plt.xlabel('# Componets')\n",
    "plt.ylabel('Accuracy')\n",
    "plt.show()"
   ]
  },
  {
   "cell_type": "code",
   "execution_count": 13,
   "metadata": {},
   "outputs": [
    {
     "data": {
      "image/png": "[encoded data removed]",
      "text/plain": [
       "<Figure size 1512x432 with 3 Axes>"
      ]
     },
     "metadata": {
      "needs_background": "light"
     },
     "output_type": "display_data"
    }
   ],
   "source": [
    "# Podemos observar que a taxa de precision(85% das vezes que o modelo preveu \"No\" e acertou), \n",
    "# recall(89% dos dados \"No\" foram previstos corretamente) e logo f1 score(média harmonica entre precision e recall)\n",
    "# é muito maior para a classe \"No\" \n",
    "# e desviam pouco em relação a quantidade de componentes.\n",
    "# Já para a classe \"Yes\" as métricas de previsão foram bem inferiores, \n",
    "# com maior desvio dependendo da quantidade de componentes.\n",
    "fig, axs = plt.subplots(1,3, figsize=(21, 6))\n",
    "metrics = [precision, recall, f1]\n",
    "metrics_names = ['Precision', 'Recall', 'F1 Score']\n",
    "\n",
    "for i in range(len(metrics)):\n",
    "    metric = np.array(metrics[i])\n",
    "    mean = metric.mean(axis=1)\n",
    "    std = metric.std(axis=1)\n",
    "\n",
    "    \n",
    "    for classes in range(len(labels)):\n",
    "        axs[i].errorbar(range(1,n_components+1), \n",
    "                        mean[:,classes], \n",
    "                        std[:,classes], \n",
    "                        label=labels[classes], \n",
    "                        marker='^')\n",
    "\n",
    "    axs[i].set_xlabel('# Components')\n",
    "    axs[i].set_ylabel(metrics_names[i])\n",
    "    axs[i].legend()"
   ]
  }
 ],
 "metadata": {
  "kernelspec": {
   "display_name": "Python 3",
   "language": "python",
   "name": "python3"
  },
  "language_info": {
   "codemirror_mode": {
    "name": "ipython",
    "version": 3
   },
   "file_extension": ".py",
   "mimetype": "text/x-python",
   "name": "python",
   "nbconvert_exporter": "python",
   "pygments_lexer": "ipython3",
   "version": "3.7.4"
  }
 },
 "nbformat": 4,
 "nbformat_minor": 4
}
